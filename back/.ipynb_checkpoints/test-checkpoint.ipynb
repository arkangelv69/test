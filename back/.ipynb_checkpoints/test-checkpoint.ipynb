{
 "cells": [
  {
   "cell_type": "code",
   "execution_count": 1,
   "metadata": {
    "collapsed": true
   },
   "outputs": [],
   "source": [
    "from pylab import *"
   ]
  },
  {
   "cell_type": "code",
   "execution_count": 3,
   "metadata": {
    "collapsed": true
   },
   "outputs": [],
   "source": [
    "from flask import Flask, jsonify, abort, make_response, request, current_app\n",
    "from datetime import timedelta\n",
    "from functools import update_wrapper\n",
    "from py2neo import Graph, Node, Relationship \n",
    "from pandas import DataFrame\n",
    "import json"
   ]
  },
  {
   "cell_type": "code",
   "execution_count": 1,
   "metadata": {
    "collapsed": true
   },
   "outputs": [],
   "source": [
    "plate = {\n",
    "\t\"links\":{\n",
    "        \n",
    "        \n",
    "\t\t\"self\": \"http://iloveplatos/plate/145\"\n",
    "\t},\n",
    "\t\"data\":{\n",
    "\t\t\"type\":\"Plate\",\n",
    "\t\t\"name\":\"PlatoNEO3\",\n",
    "\t\t\"description\":\"Macarrones con chorizo y tomate\",\n",
    "\t\t\"image\":\"http://img.jpg\"\n",
    "\t}\n",
    "}"
   ]
  },
  {
   "cell_type": "code",
   "execution_count": 83,
   "metadata": {
    "collapsed": true
   },
   "outputs": [],
   "source": [
    "user = {\n",
    "\t\"links\":{\n",
    "\t\t\"self\": \"http://iloveplatos/user/590\"\n",
    "\t},\n",
    "\t\"data\":{\n",
    "\t\t\"type\":\"Person\",\n",
    "\t\t\"name\":\"James\",\n",
    "\t\t\"role\":\"user\",\n",
    "\t\t\"email\":\"user@mail.com\",\n",
    "        \"device_id\":1235\n",
    "\t}\n",
    "}"
   ]
  },
  {
   "cell_type": "code",
   "execution_count": 28,
   "metadata": {
    "collapsed": true
   },
   "outputs": [],
   "source": [
    "userId=204\n",
    "plateId=187"
   ]
  },
  {
   "cell_type": "code",
   "execution_count": 6,
   "metadata": {
    "collapsed": true
   },
   "outputs": [],
   "source": [
    "graph = Graph(password=\".dgonzalez.\")"
   ]
  },
  {
   "cell_type": "code",
   "execution_count": 29,
   "metadata": {
    "collapsed": true
   },
   "outputs": [],
   "source": [
    "userN = graph.node(userId)\n",
    "plateN = graph.node(plateId)"
   ]
  },
  {
   "cell_type": "code",
   "execution_count": 33,
   "metadata": {
    "collapsed": true
   },
   "outputs": [],
   "source": [
    "graph.create(Relationship(userN,\"LIKED\",plateN))"
   ]
  },
  {
   "cell_type": "code",
   "execution_count": 27,
   "metadata": {
    "collapsed": false
   },
   "outputs": [
    {
     "data": {
      "text/plain": [
       "[{u'p': (f61eebc:Plate {description:\"Usando py2neo bien!!\",image:\"http://img.jpg\",name:\"C\"}),\n",
       "  u'r': (ac8a793)-[:CLARINETE]->(f61eebc),\n",
       "  u'u': (ac8a793:User {name:\"DavidM\",plate:\"jamon\"})},\n",
       " {u'p': (f61eebc:Plate {description:\"Usando py2neo bien!!\",image:\"http://img.jpg\",name:\"C\"}),\n",
       "  u'r': (ac8a793)-[:SE_SALE]->(f61eebc),\n",
       "  u'u': (ac8a793:User {name:\"DavidM\",plate:\"jamon\"})},\n",
       " {u'p': (f61eebc:Plate {description:\"Usando py2neo bien!!\",image:\"http://img.jpg\",name:\"C\"}),\n",
       "  u'r': (ac8a793)-[:`SE SALE`]->(f61eebc),\n",
       "  u'u': (ac8a793:User {name:\"DavidM\",plate:\"jamon\"})},\n",
       " {u'p': (f61eebc:Plate {description:\"Usando py2neo bien!!\",image:\"http://img.jpg\",name:\"C\"}),\n",
       "  u'r': (ac8a793)-[:HOLA]->(f61eebc),\n",
       "  u'u': (ac8a793:User {name:\"DavidM\",plate:\"jamon\"})},\n",
       " {u'p': (f61eebc:Plate {description:\"Usando py2neo bien!!\",image:\"http://img.jpg\",name:\"C\"}),\n",
       "  u'r': (ac8a793)-[:`LE MOLA`]->(f61eebc),\n",
       "  u'u': (ac8a793:User {name:\"DavidM\",plate:\"jamon\"})},\n",
       " {u'p': (f61eebc:Plate {description:\"Usando py2neo bien!!\",image:\"http://img.jpg\",name:\"C\"}),\n",
       "  u'r': (ac8a793)-[:`LE GUSTA`]->(f61eebc),\n",
       "  u'u': (ac8a793:User {name:\"DavidM\",plate:\"jamon\"})},\n",
       " {u'p': (d0b2224:Plate {description:\"chorizaco guapo\",name:\"Chorizo a la sidra\"}),\n",
       "  u'r': (ac8a793)-[:LIKED]->(d0b2224),\n",
       "  u'u': (ac8a793:User {name:\"DavidM\",plate:\"jamon\"})},\n",
       " {u'p': (b0b5291:Plate {description:\"super croquetas de jamon de la toñi\",name:\"croquetas\"}),\n",
       "  u'r': (ac8a793)-[:LIKED]->(b0b5291),\n",
       "  u'u': (ac8a793:User {name:\"DavidM\",plate:\"jamon\"})},\n",
       " {u'p': (bef248d:Plate {description:\"ole aaaaa\",name:\"jamon\"}),\n",
       "  u'r': (ac8a793)-[:LIKED]->(bef248d),\n",
       "  u'u': (ac8a793:User {name:\"DavidM\",plate:\"jamon\"})}]"
      ]
     },
     "execution_count": 27,
     "metadata": {},
     "output_type": "execute_result"
    }
   ],
   "source": [
    "graph.run('match (u:User{name:\"DavidM\"})-[r]->(p:Plate) return u,r,p').data()"
   ]
  },
  {
   "cell_type": "code",
   "execution_count": 46,
   "metadata": {
    "collapsed": true
   },
   "outputs": [],
   "source": [
    "data = {\n",
    "    \"user_id\":204,\n",
    "    \"plate_id\":195,\n",
    "    \"type\":\"OLE\"\n",
    "    }"
   ]
  },
  {
   "cell_type": "code",
   "execution_count": 41,
   "metadata": {
    "collapsed": false
   },
   "outputs": [
    {
     "data": {
      "text/plain": [
       "{'plate_id': 195, 'type': 'LIKED', 'user_id': 204}"
      ]
     },
     "execution_count": 41,
     "metadata": {},
     "output_type": "execute_result"
    }
   ],
   "source": [
    "data"
   ]
  },
  {
   "cell_type": "code",
   "execution_count": 47,
   "metadata": {
    "collapsed": false
   },
   "outputs": [
    {
     "ename": "KeyError",
     "evalue": "'userId'",
     "output_type": "error",
     "traceback": [
      "\u001b[0;31m---------------------------------------------------------------------------\u001b[0m",
      "\u001b[0;31mKeyError\u001b[0m                                  Traceback (most recent call last)",
      "\u001b[0;32m<ipython-input-47-a479447f2a9c>\u001b[0m in \u001b[0;36m<module>\u001b[0;34m()\u001b[0m\n\u001b[0;32m----> 1\u001b[0;31m \u001b[0muserN\u001b[0m \u001b[0;34m=\u001b[0m \u001b[0mgraph\u001b[0m\u001b[0;34m.\u001b[0m\u001b[0mnode\u001b[0m\u001b[0;34m(\u001b[0m\u001b[0mdata\u001b[0m\u001b[0;34m[\u001b[0m\u001b[0;34m\"userId\"\u001b[0m\u001b[0;34m]\u001b[0m\u001b[0;34m)\u001b[0m\u001b[0;34m\u001b[0m\u001b[0m\n\u001b[0m\u001b[1;32m      2\u001b[0m \u001b[0mplateN\u001b[0m \u001b[0;34m=\u001b[0m \u001b[0mgraph\u001b[0m\u001b[0;34m.\u001b[0m\u001b[0mnode\u001b[0m\u001b[0;34m(\u001b[0m\u001b[0mdata\u001b[0m\u001b[0;34m[\u001b[0m\u001b[0;34m\"plateId\"\u001b[0m\u001b[0;34m]\u001b[0m\u001b[0;34m)\u001b[0m\u001b[0;34m\u001b[0m\u001b[0m\n\u001b[1;32m      3\u001b[0m \u001b[0mgraph\u001b[0m\u001b[0;34m.\u001b[0m\u001b[0mcreate\u001b[0m\u001b[0;34m(\u001b[0m\u001b[0mRelationship\u001b[0m\u001b[0;34m(\u001b[0m\u001b[0muserN\u001b[0m\u001b[0;34m,\u001b[0m\u001b[0mdata\u001b[0m\u001b[0;34m[\u001b[0m\u001b[0;34m\"type\"\u001b[0m\u001b[0;34m]\u001b[0m\u001b[0;34m,\u001b[0m\u001b[0mplateN\u001b[0m\u001b[0;34m)\u001b[0m\u001b[0;34m)\u001b[0m\u001b[0;34m\u001b[0m\u001b[0m\n",
      "\u001b[0;31mKeyError\u001b[0m: 'userId'"
     ]
    }
   ],
   "source": [
    "userN = graph.node(data[\"userId\"])\n",
    "plateN = graph.node(data[\"plateId\"])\n",
    "graph.create(Relationship(userN,data[\"type\"],plateN))"
   ]
  },
  {
   "cell_type": "code",
   "execution_count": null,
   "metadata": {
    "collapsed": true
   },
   "outputs": [],
   "source": [
    "data[\"userId\"]"
   ]
  },
  {
   "cell_type": "code",
   "execution_count": null,
   "metadata": {
    "collapsed": true
   },
   "outputs": [],
   "source": []
  }
 ],
 "metadata": {
  "kernelspec": {
   "display_name": "Python 2",
   "language": "python",
   "name": "python2"
  },
  "language_info": {
   "codemirror_mode": {
    "name": "ipython",
    "version": 2
   },
   "file_extension": ".py",
   "mimetype": "text/x-python",
   "name": "python",
   "nbconvert_exporter": "python",
   "pygments_lexer": "ipython2",
   "version": "2.7.10"
  }
 },
 "nbformat": 4,
 "nbformat_minor": 0
}
